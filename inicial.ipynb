{
 "cells": [
  {
   "cell_type": "markdown",
   "metadata": {},
   "source": [
    "# Projeto Python IA: Inteligência Artificial e Previsões\n",
    "\n",
    "### Case: Score de Crédito dos Clientes\n",
    "\n",
    "Você foi contratado por um banco para conseguir definir o score de crédito dos clientes. Você precisa analisar todos os clientes do banco e, com base nessa análise, criar um modelo que consiga ler as informações do cliente e dizer automaticamente o score de crédito dele: Ruim, Ok, Bom\n",
    "\n",
    "Arquivos da aula: https://drive.google.com/drive/folders/1FbDqVq4XLvU85VBlVIMJ73p9oOu6u2-J?usp=drive_link"
   ]
  },
  {
   "cell_type": "code",
   "execution_count": 17,
   "metadata": {},
   "outputs": [],
   "source": [
    "#Entender oq a empresa precisa o desafio \n",
    "# importar os dados\n",
    "# preparar a base de dados da inteligencia \n",
    "# criar um modelo de IA -> score credito: bom, ok, ruim\n",
    "# escolher o melhor modelo\n",
    "# usar a nossa IA para fazer novas previsoes\n",
    "#!pip install scikit-learn\n"
   ]
  },
  {
   "cell_type": "code",
   "execution_count": null,
   "metadata": {},
   "outputs": [],
   "source": [
    "import pandas as pd\n",
    "\n",
    "tabela = pd.read_csv(\"clientes.csv\")\n",
    "display(tabela)\n",
    "display(tabela.info())\n",
    "\n",
    "#saber se o score vai ser bom, ruim ou ok\n",
    "\n"
   ]
  },
  {
   "cell_type": "code",
   "execution_count": null,
   "metadata": {},
   "outputs": [],
   "source": [
    "# preparar a base de dados da inteligencia \n",
    "# int -> numero inteiro\n",
    "# float -> numero com casa decimal\n",
    "# object -> texto\n",
    "\n",
    "#label enconder numera cada object para facilitar o entendimento da IA \n",
    "# profissao, mix_credito, comportamento_pagamento\n",
    "\n",
    "# 3 etapas para organizar esses index para o label enconder\n",
    "# importar o label enconder\n",
    "from sklearn.preprocessing import LabelEncoder as lb\n",
    "\n",
    "# criar o label enconder \n",
    "lb = lb()\n",
    "\n",
    "# aplicar o label enconder nas colunas \n",
    "tabela[\"profissao\"] = lb.fit_transform(tabela[\"profissao\"]) \n",
    "\n",
    "#mix_credito\n",
    "tabela[\"mix_credito\"] = lb.fit_transform(tabela[\"mix_credito\"]) \n",
    "\n",
    "#comportamento_pagamento\n",
    "tabela[\"comportamento_pagamento\"] = lb.fit_transform(tabela[\"comportamento_pagamento\"]) \n",
    "\n",
    "display(tabela.info())"
   ]
  },
  {
   "cell_type": "code",
   "execution_count": 20,
   "metadata": {},
   "outputs": [],
   "source": [
    "#2 divisoes \n",
    "\n",
    "# quem eu quero prever, quem eu quero usar para a previsao\n",
    "y = tabela[\"score_credito\"]\n",
    "x = tabela.drop(columns=[\"score_credito\", \"id_cliente\"])\n",
    "\n",
    "#treino e testes \n",
    "from sklearn.model_selection import train_test_split\n",
    "\n",
    "x_treino, x_teste, y_treino, y_teste = train_test_split(x, y, test_size=0.3)"
   ]
  },
  {
   "cell_type": "code",
   "execution_count": null,
   "metadata": {},
   "outputs": [],
   "source": [
    "#criar a inteligencia artificial \n",
    "\n",
    "# modelo de Arvore de Decisao -> Random Forest\n",
    "# KNN -> vizinhos proximos Nearest Neighbors\n",
    "\n",
    "\n",
    "#passos para treinar a IA\n",
    "\n",
    "# importar a IA\n",
    "from sklearn.ensemble import RandomForestClassifier\n",
    "from sklearn.neighbors import KNeighborsClassifier\n",
    "# Criar a IA\n",
    "modelo_arvore = RandomForestClassifier()\n",
    "modelo_knn = KNeighborsClassifier()\n",
    "# treinar a IA\n",
    "modelo_arvore.fit(x_treino, y_treino)\n",
    "modelo_knn.fit(x_treino,y_treino)\n",
    "\n"
   ]
  },
  {
   "cell_type": "code",
   "execution_count": null,
   "metadata": {},
   "outputs": [],
   "source": [
    "#testar os modelos\n",
    "\n",
    "prev_arv = modelo_arvore.predict(x_teste)\n",
    "prev_knn = modelo_knn.predict(x_teste)\n",
    "\n",
    "from sklearn.metrics import accuracy_score\n",
    "\n",
    "print(accuracy_score(y_teste, prev_arv))\n",
    "print(accuracy_score(y_teste, prev_knn))"
   ]
  },
  {
   "cell_type": "code",
   "execution_count": null,
   "metadata": {},
   "outputs": [],
   "source": [
    "#o melhor dos dois foi o de arvore\n",
    "new_tab = pd.read_csv(\"novos_clientes.csv\")\n",
    "display(new_tab)\n",
    "\n",
    "#aplicar o label enconnder\n",
    "new_tab[\"profissao\"] = lb.fit_transform(new_tab[\"profissao\"]) \n",
    "\n",
    "#mix_credito\n",
    "\n",
    "new_tab[\"mix_credito\"] = lb.fit_transform(new_tab[\"mix_credito\"])\n",
    "\n",
    "#comportamento_pagamento\n",
    "\n",
    "new_tab[\"comportamento_pagamento\"] = lb.fit_transform(new_tab[\"comportamento_pagamento\"])\n",
    "\n",
    "display(new_tab)\n",
    "\n",
    "#preparar a base de dados da inteligencia\n",
    "prev =  modelo_arvore.predict(new_tab)\n",
    "display(prev)\n"
   ]
  },
  {
   "cell_type": "code",
   "execution_count": null,
   "metadata": {},
   "outputs": [],
   "source": []
  }
 ],
 "metadata": {
  "kernelspec": {
   "display_name": "Python 3",
   "language": "python",
   "name": "python3"
  },
  "language_info": {
   "codemirror_mode": {
    "name": "ipython",
    "version": 3
   },
   "file_extension": ".py",
   "mimetype": "text/x-python",
   "name": "python",
   "nbconvert_exporter": "python",
   "pygments_lexer": "ipython3",
   "version": "3.12.1"
  },
  "orig_nbformat": 4
 },
 "nbformat": 4,
 "nbformat_minor": 2
}
